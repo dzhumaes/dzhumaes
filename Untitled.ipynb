{
 "cells": [
  {
   "cell_type": "code",
   "execution_count": null,
   "id": "9e267a0a",
   "metadata": {},
   "outputs": [],
   "source": [
    "import requests\n",
    "import sys\n",
    "import pandas as pd\n",
    "from pandas import json_normalize\n",
    "import json\n",
    "\n",
    "# Spider Project's API Server\n",
    "url = 'http://89.106.173.60:62449/'\n",
    "# Please prepend with the full path\n",
    "filename = 'C:\\\\Users\\\\djumagalieve\\\\Documents\\\\Spider Project\\\\Demo Projects\\\\AD_Aksai_S.1054.sprj'\n",
    "reportName = 'C:\\\\Users\\\\djumagalieve\\\\Documents\\\\Spider Project\\\\My report\\\\dsmDays.001.sdoc'\n",
    "\n",
    "r = requests.post( url, json={'command':'login', 'user':'Dzhumaes', 'password':'ElS173tsm'} )\n",
    "print('Login request done.') if r.status_code == 200 else sys.exit(0)\n",
    "r = r.json()\n",
    "if r['errcode'] != 0:\n",
    "\tprint('Invalid login or password!')\n",
    "\tsys.exit(0)\n",
    "\n",
    "# return docHandle.key\n",
    "project = requests.post(url, json={'command': 'openFile', 'fileName': filename, 'sessId': r['sessId']})\n",
    "print('\\nProject opened.') if project.status_code == 200 else sys.exit(0)\n",
    "docHandleProject = project.json()['docHandle']\n",
    "\n",
    "# execute Script\n",
    "project = requests.post(url, json={'command':'executeScript','docHandle': docHandleProject,'scriptLibName': 'needDSMDays', 'sessId': r['sessId']})\n",
    "print('\\nScript executed.') if project.status_code == 200 else sys.exit(0)\n",
    "    \n",
    "# return docHandle.key\n",
    "report = requests.post(url, json={'command': 'openFile', 'fileName': reportName, 'sessId': r['sessId']})\n",
    "print('\\nReport opened.') if report.status_code == 200 else sys.exit(0)\n",
    "docHandleReport = report.json()['docHandle']\n",
    "\n",
    "# return tableHandle.key\n",
    "report = requests.post(url, json={'command':'getTableHandle','docHandle': docHandleReport,'sessId':r['sessId']})\n",
    "print('\\nTable handle obtained.') if report.status_code == 200 else sys.exit(0)\n",
    "tableHandle = report.json()['tableHandle']\n",
    "\n",
    "# return table\n",
    "report = requests.post(url, json={'command':'getTable','tableHandle': str(tableHandle),'sessId':r['sessId']})\n",
    "print('\\nTable obtained.') if report.status_code == 200 else sys.exit(0)\n",
    "data = report.json()['array']\n"
   ]
  }
 ],
 "metadata": {
  "kernelspec": {
   "display_name": "Python 3",
   "language": "python",
   "name": "python3"
  },
  "language_info": {
   "codemirror_mode": {
    "name": "ipython",
    "version": 3
   },
   "file_extension": ".py",
   "mimetype": "text/x-python",
   "name": "python",
   "nbconvert_exporter": "python",
   "pygments_lexer": "ipython3",
   "version": "3.9.2"
  }
 },
 "nbformat": 4,
 "nbformat_minor": 5
}
