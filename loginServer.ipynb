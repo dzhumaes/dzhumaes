{
 "cells": [
  {
   "cell_type": "code",
   "execution_count": 2,
   "id": "2b4dcf50",
   "metadata": {},
   "outputs": [
    {
     "name": "stdout",
     "output_type": "stream",
     "text": [
      "Login request done.\n"
     ]
    }
   ],
   "source": [
    "import requests\n",
    "import sys\n",
    "import pandas as pd\n",
    "from pandas import json_normalize\n",
    "import json\n",
    "\n",
    "# Spider Project's API Server\n",
    "url = 'http://89.106.173.60:62449/'\n",
    "# Please prepend with the full path\n",
    "filename = 'C:\\\\Users\\\\djumagalieve\\\\Documents\\\\Spider Project\\\\Demo Projects\\\\AD_Aksai_S.1054.sprj'\n",
    "reportName = 'C:\\\\Users\\\\djumagalieve\\\\Documents\\\\Spider Project\\\\Demo Projects\\\\dsmDays.001.sdoc'\n",
    "\n",
    "r = requests.post( url, json={'command':'login', 'user':'Dzhumaes', 'password':'ElS173tsm'} )\n",
    "print('Login request done.') if r.status_code == 200 else sys.exit(0)\n",
    "r = r.json()\n",
    "if r['errcode'] != 0:\n",
    "\tprint('Invalid login or password!')\n",
    "\tsys.exit(0)"
   ]
  },
  {
   "cell_type": "code",
   "execution_count": null,
   "id": "c4efe143",
   "metadata": {},
   "outputs": [],
   "source": []
  }
 ],
 "metadata": {
  "kernelspec": {
   "display_name": "Python 3",
   "language": "python",
   "name": "python3"
  },
  "language_info": {
   "codemirror_mode": {
    "name": "ipython",
    "version": 3
   },
   "file_extension": ".py",
   "mimetype": "text/x-python",
   "name": "python",
   "nbconvert_exporter": "python",
   "pygments_lexer": "ipython3",
   "version": "3.9.2"
  }
 },
 "nbformat": 4,
 "nbformat_minor": 5
}
