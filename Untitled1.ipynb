{
 "cells": [
  {
   "cell_type": "code",
   "execution_count": 1,
   "id": "25d291e2",
   "metadata": {},
   "outputs": [
    {
     "name": "stdout",
     "output_type": "stream",
     "text": [
      "Введите путь к файлу: C:\\Users\\djumagalieve\\Documents\\Spider Project\\Demo Projects\\\n",
      "Путь к файлу: C:\\Users\\djumagalieve\\Documents\\Spider Project\\Demo Projects\\\n"
     ]
    }
   ],
   "source": [
    "pathFile = input('Введите путь к файлу: ')\n",
    "print('Путь к файлу:', pathFile)"
   ]
  },
  {
   "cell_type": "code",
   "execution_count": null,
   "id": "8e70ad3b",
   "metadata": {},
   "outputs": [],
   "source": [
    "pathFile.replace"
   ]
  }
 ],
 "metadata": {
  "kernelspec": {
   "display_name": "Python 3",
   "language": "python",
   "name": "python3"
  },
  "language_info": {
   "codemirror_mode": {
    "name": "ipython",
    "version": 3
   },
   "file_extension": ".py",
   "mimetype": "text/x-python",
   "name": "python",
   "nbconvert_exporter": "python",
   "pygments_lexer": "ipython3",
   "version": "3.9.2"
  }
 },
 "nbformat": 4,
 "nbformat_minor": 5
}
